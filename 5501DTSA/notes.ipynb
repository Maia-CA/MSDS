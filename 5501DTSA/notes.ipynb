{
 "cells": [
  {
   "cell_type": "code",
   "execution_count": null,
   "metadata": {},
   "outputs": [],
   "source": [
    "# DTSA 5501 Notes\n",
    "# Week 1"
   ]
  },
  {
   "cell_type": "code",
   "execution_count": null,
   "metadata": {},
   "outputs": [],
   "source": [
    "# Insersion Sort\n",
    "# ==============\n",
    "# Best case: O(1), occurs when the array is already ascending sorted and insert\n",
    "# immediately breaks on first comparison.\n",
    "# Worst case: O(n^2), When the insert is always inserted at the very start mearning the \n",
    "# array is descending sorted."
   ]
  },
  {
   "cell_type": "code",
   "execution_count": null,
   "metadata": {},
   "outputs": [],
   "source": []
  }
 ],
 "metadata": {
  "language_info": {
   "name": "python"
  },
  "orig_nbformat": 4
 },
 "nbformat": 4,
 "nbformat_minor": 2
}
